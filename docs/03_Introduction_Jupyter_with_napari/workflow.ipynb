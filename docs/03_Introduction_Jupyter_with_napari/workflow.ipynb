{
 "cells": [
  {
   "cell_type": "code",
   "execution_count": null,
   "id": "c3914898",
   "metadata": {},
   "outputs": [],
   "source": [
    "from skimage.io import imread\n",
    "import pyclesperanto_prototype as cle\n",
    "import napari\n",
    "viewer = napari.Viewer()"
   ]
  },
  {
   "cell_type": "code",
   "execution_count": null,
   "id": "630986cc",
   "metadata": {},
   "outputs": [],
   "source": [
    "image0_n = imread(\n",
    "    \"C:/Users/mazo260d/Documents/GitHub/HIP_Introduction_to_Napari_and_image_processing_with_Python_2022/data/3D/nuclei.tif\")\n",
    "viewer.add_image(image0_n, name=\"nuclei\")"
   ]
  },
  {
   "cell_type": "markdown",
   "id": "b24ae4f4",
   "metadata": {},
   "source": [
    "## voronoi otsu labeling"
   ]
  },
  {
   "cell_type": "code",
   "execution_count": null,
   "id": "69312b6f",
   "metadata": {},
   "outputs": [],
   "source": [
    "image1_vol = cle.voronoi_otsu_labeling(image0_n, None, 9.0, 3.0)\n",
    "viewer.add_labels(\n",
    "    image1_vol, name='Result of voronoi_otsu_labeling (clesperanto)')\n",
    "napari.utils.nbscreenshot(viewer)"
   ]
  },
  {
   "cell_type": "markdown",
   "id": "8e9e3c2b",
   "metadata": {},
   "source": [
    "## exclude labels on edges"
   ]
  },
  {
   "cell_type": "code",
   "execution_count": null,
   "id": "20d41fa0",
   "metadata": {},
   "outputs": [],
   "source": [
    "image2_eloe = cle.exclude_labels_on_edges(image1_vol)\n",
    "viewer.add_labels(\n",
    "    image2_eloe, name='Result of exclude_labels_on_edges (clesperanto)')\n",
    "napari.utils.nbscreenshot(viewer)"
   ]
  }
 ],
 "metadata": {
  "jupytext": {
   "cell_metadata_filter": "-all",
   "main_language": "python",
   "notebook_metadata_filter": "-all"
  },
  "kernelspec": {
   "display_name": "Python 3 (ipykernel)",
   "language": "python",
   "name": "python3"
  },
  "language_info": {
   "codemirror_mode": {
    "name": "ipython",
    "version": 3
   },
   "file_extension": ".py",
   "mimetype": "text/x-python",
   "name": "python",
   "nbconvert_exporter": "python",
   "pygments_lexer": "ipython3",
   "version": "3.9.12"
  }
 },
 "nbformat": 4,
 "nbformat_minor": 5
}
