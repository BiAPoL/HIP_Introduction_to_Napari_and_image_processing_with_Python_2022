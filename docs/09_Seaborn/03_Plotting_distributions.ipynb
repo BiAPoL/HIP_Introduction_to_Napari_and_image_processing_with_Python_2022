{
 "cells": [
  {
   "cell_type": "markdown",
   "id": "3b84ddbc-2079-48c9-a38b-b0a34abd6d27",
   "metadata": {},
   "source": [
    "# Plotting Distributions with Seaborn"
   ]
  },
  {
   "cell_type": "code",
   "execution_count": 1,
   "id": "ec137599-b8bd-4666-b5f7-13e94243b50e",
   "metadata": {},
   "outputs": [],
   "source": [
    "import pandas as pd\n",
    "import numpy as np\n",
    "import matplotlib.pyplot as plt\n",
    "import seaborn as sns"
   ]
  },
  {
   "cell_type": "markdown",
   "id": "1e2c1579-8df5-4e70-bd10-8a6095f2d564",
   "metadata": {},
   "source": [
    "## Histograms"
   ]
  },
  {
   "cell_type": "markdown",
   "id": "88932903-b980-42a3-b6e8-3f42327735c6",
   "metadata": {},
   "source": [
    "Let's load the same dataframe."
   ]
  },
  {
   "cell_type": "code",
   "execution_count": 5,
   "id": "c0a502d8-9181-47b4-8e6b-63b37ed3a8d4",
   "metadata": {},
   "outputs": [
    {
     "data": {
      "text/html": [
       "<div>\n",
       "<style scoped>\n",
       "    .dataframe tbody tr th:only-of-type {\n",
       "        vertical-align: middle;\n",
       "    }\n",
       "\n",
       "    .dataframe tbody tr th {\n",
       "        vertical-align: top;\n",
       "    }\n",
       "\n",
       "    .dataframe thead th {\n",
       "        text-align: right;\n",
       "    }\n",
       "</style>\n",
       "<table border=\"1\" class=\"dataframe\">\n",
       "  <thead>\n",
       "    <tr style=\"text-align: right;\">\n",
       "      <th></th>\n",
       "      <th>area</th>\n",
       "      <th>intensity_mean</th>\n",
       "      <th>major_axis_length</th>\n",
       "      <th>minor_axis_length</th>\n",
       "      <th>aspect_ratio</th>\n",
       "      <th>file_name</th>\n",
       "    </tr>\n",
       "  </thead>\n",
       "  <tbody>\n",
       "    <tr>\n",
       "      <th>0</th>\n",
       "      <td>139</td>\n",
       "      <td>96.546763</td>\n",
       "      <td>17.504104</td>\n",
       "      <td>10.292770</td>\n",
       "      <td>1.700621</td>\n",
       "      <td>20P1_POS0010_D_1UL</td>\n",
       "    </tr>\n",
       "    <tr>\n",
       "      <th>1</th>\n",
       "      <td>360</td>\n",
       "      <td>86.613889</td>\n",
       "      <td>35.746808</td>\n",
       "      <td>14.983124</td>\n",
       "      <td>2.385805</td>\n",
       "      <td>20P1_POS0010_D_1UL</td>\n",
       "    </tr>\n",
       "    <tr>\n",
       "      <th>2</th>\n",
       "      <td>43</td>\n",
       "      <td>91.488372</td>\n",
       "      <td>12.967884</td>\n",
       "      <td>4.351573</td>\n",
       "      <td>2.980045</td>\n",
       "      <td>20P1_POS0010_D_1UL</td>\n",
       "    </tr>\n",
       "    <tr>\n",
       "      <th>3</th>\n",
       "      <td>140</td>\n",
       "      <td>73.742857</td>\n",
       "      <td>18.940508</td>\n",
       "      <td>10.314404</td>\n",
       "      <td>1.836316</td>\n",
       "      <td>20P1_POS0010_D_1UL</td>\n",
       "    </tr>\n",
       "    <tr>\n",
       "      <th>4</th>\n",
       "      <td>144</td>\n",
       "      <td>89.375000</td>\n",
       "      <td>13.639308</td>\n",
       "      <td>13.458532</td>\n",
       "      <td>1.013432</td>\n",
       "      <td>20P1_POS0010_D_1UL</td>\n",
       "    </tr>\n",
       "  </tbody>\n",
       "</table>\n",
       "</div>"
      ],
      "text/plain": [
       "   area  intensity_mean  major_axis_length  minor_axis_length  aspect_ratio  \\\n",
       "0   139       96.546763          17.504104          10.292770      1.700621   \n",
       "1   360       86.613889          35.746808          14.983124      2.385805   \n",
       "2    43       91.488372          12.967884           4.351573      2.980045   \n",
       "3   140       73.742857          18.940508          10.314404      1.836316   \n",
       "4   144       89.375000          13.639308          13.458532      1.013432   \n",
       "\n",
       "            file_name  \n",
       "0  20P1_POS0010_D_1UL  \n",
       "1  20P1_POS0010_D_1UL  \n",
       "2  20P1_POS0010_D_1UL  \n",
       "3  20P1_POS0010_D_1UL  \n",
       "4  20P1_POS0010_D_1UL  "
      ]
     },
     "execution_count": 5,
     "metadata": {},
     "output_type": "execute_result"
    }
   ],
   "source": [
    "df = pd.read_csv(\"../../data/BBBC007_analysis.csv\")\n",
    "df.head()"
   ]
  },
  {
   "cell_type": "code",
   "execution_count": null,
   "id": "467d56e3-4e6e-4e01-b67b-c0319734a7e0",
   "metadata": {},
   "outputs": [],
   "source": []
  },
  {
   "cell_type": "markdown",
   "id": "05dd40e3-4b9a-44b8-8bfc-610f79809d06",
   "metadata": {
    "tags": []
   },
   "source": [
    "## Exercise"
   ]
  },
  {
   "cell_type": "markdown",
   "id": "4acf97f1-efcb-4f27-851f-643e3bfa0bae",
   "metadata": {},
   "source": [
    "Plot a line regression model on a single plot, with points and lines having different colors according to 'file_name'.\n",
    "\n",
    "*Hint: use a function that accepts a `hue` argument*"
   ]
  },
  {
   "cell_type": "code",
   "execution_count": null,
   "id": "9ee0c368-7b49-4f24-86a7-8ab65873f72f",
   "metadata": {},
   "outputs": [],
   "source": []
  }
 ],
 "metadata": {
  "kernelspec": {
   "display_name": "Python 3 (ipykernel)",
   "language": "python",
   "name": "python3"
  },
  "language_info": {
   "codemirror_mode": {
    "name": "ipython",
    "version": 3
   },
   "file_extension": ".py",
   "mimetype": "text/x-python",
   "name": "python",
   "nbconvert_exporter": "python",
   "pygments_lexer": "ipython3",
   "version": "3.9.12"
  }
 },
 "nbformat": 4,
 "nbformat_minor": 5
}
