{
 "cells": [
  {
   "cell_type": "markdown",
   "id": "46781329-a60f-41e7-82b1-9c29c5cc289e",
   "metadata": {},
   "source": [
    "# Complex exercise\n",
    "In this complex exercise we will setup a workflow for multiple processing images in a folder. We will measure properties of the segmented nuclei and stored them in one big table.\n",
    "\n",
    "If you have any questions and we are not around, feel free to open a thread on [image.sc](https://image.sc)"
   ]
  },
  {
   "cell_type": "code",
   "execution_count": null,
   "id": "821202c1-2253-48a6-a5cd-978d02896f77",
   "metadata": {},
   "outputs": [],
   "source": [
    "import napari\n",
    "import pandas as pd\n",
    "from skimage.io import imread\n",
    "from napari_simpleitk_image_processing import label_statistics\n",
    "import os\n",
    "import seaborn\n",
    "import matplotlib.pyplot as plt"
   ]
  },
  {
   "cell_type": "code",
   "execution_count": null,
   "id": "2a2f920e-0b84-4da6-b244-0cabea84b5dd",
   "metadata": {},
   "outputs": [],
   "source": [
    "data_path = \"../../data/BBBC007_batch/\""
   ]
  },
  {
   "cell_type": "markdown",
   "id": "612a4e0c-9aab-4b39-9781-586ca01857a6",
   "metadata": {},
   "source": [
    "Load an image from the specified folder and open it in napari."
   ]
  },
  {
   "cell_type": "code",
   "execution_count": null,
   "id": "e898826e-9be1-41ca-864e-284c1f33ab53",
   "metadata": {},
   "outputs": [],
   "source": [
    "viewer = napari.Viewer()\n",
    "\n",
    "image = imread(\"../../data/BBBC007_batch/17P1_POS0013_D_1UL.tif\")\n",
    "\n",
    "viewer.add_image(image)"
   ]
  },
  {
   "cell_type": "markdown",
   "id": "a47b12d0-0320-4a67-bd0c-3bea982e185e",
   "metadata": {},
   "source": [
    "## Image segmentation\n",
    "Set up an image segmentation workflow for this image to segment nuclei. Do this using the napari-assistant and export a notebook. Copy paste the code from this notebook into this function:"
   ]
  },
  {
   "cell_type": "code",
   "execution_count": null,
   "id": "9dc3a13b-770e-4d0c-8465-38c22c288175",
   "metadata": {},
   "outputs": [],
   "source": [
    "def segment_image(image):\n",
    "\n",
    "    # enter code here\n",
    "    \n",
    "    return label_image"
   ]
  },
  {
   "cell_type": "code",
   "execution_count": null,
   "id": "6063acf6-06ab-424a-b5a7-31ef03770795",
   "metadata": {},
   "outputs": [],
   "source": [
    "test_label_image = segment_image(image)\n",
    "test_label_image"
   ]
  },
  {
   "cell_type": "markdown",
   "id": "743b9597-0a1e-4ee4-a807-97e291d06b74",
   "metadata": {},
   "source": [
    "## Feature extraction\n",
    "Use the following function body to program a routine that takes the image, a corresponding label image and retrieve measurements. You may for example use the function `label_statistics` from `napari_simpleitk_image_processing`. Make sure your function creates a pandas DataFrame."
   ]
  },
  {
   "cell_type": "code",
   "execution_count": null,
   "id": "c3c663b2-97fe-44ef-838d-72cb3244f321",
   "metadata": {},
   "outputs": [],
   "source": [
    "def analyze_image(image, label_image):\n",
    "    \n",
    "    # enter code here\n",
    "    \n",
    "    return pd.DataFrame(statistics)"
   ]
  },
  {
   "cell_type": "code",
   "execution_count": null,
   "id": "c567774f-6c08-4846-9a10-bdd28cf4ab95",
   "metadata": {},
   "outputs": [],
   "source": [
    "analyze_image(image, test_label_image)"
   ]
  },
  {
   "cell_type": "markdown",
   "id": "d8b5b5b8-0971-45c3-a689-5ba3df0b9f31",
   "metadata": {},
   "source": [
    "## Batch processing\n",
    "Use the following for-loop to iterate through the folder, segment all images, analyse the images, create data frames and concatenate all results in one table."
   ]
  },
  {
   "cell_type": "code",
   "execution_count": null,
   "id": "d73fa858-be28-44f3-b7d4-f7cff213cd6a",
   "metadata": {},
   "outputs": [],
   "source": [
    "results = pd.DataFrame()\n",
    "\n",
    "for file_name in os.listdir(data_path):\n",
    "    if file_name.endswith('.tif'):\n",
    "        file_path = os.path.join(data_path, file_name)\n",
    "        \n",
    "        \n",
    "        # enter code here\n",
    "        \n",
    "        \n",
    "        # save from which image the measurements were derived from\n",
    "        table['file_name'] = file_name\n",
    "        \n",
    "        # collect results\n",
    "        results = pd.concat([results, table])\n",
    "\n",
    "results"
   ]
  },
  {
   "cell_type": "markdown",
   "id": "7f97cb23-d07b-4aff-8971-15b849edb2f7",
   "metadata": {},
   "source": [
    "Save the resulting measurements to disk."
   ]
  },
  {
   "cell_type": "code",
   "execution_count": null,
   "id": "bfd99626-7e52-409b-8be0-a60fe18a9130",
   "metadata": {},
   "outputs": [],
   "source": []
  },
  {
   "cell_type": "markdown",
   "id": "9af50dd4-03ca-40f6-aba1-fcabdd1a3a7d",
   "metadata": {},
   "source": [
    "## Plotting\n",
    "Extract area measurements from two different images from the table above and draw a box plot."
   ]
  },
  {
   "cell_type": "code",
   "execution_count": null,
   "id": "3026efc2-b608-45e1-97a2-9b912132ccdc",
   "metadata": {},
   "outputs": [],
   "source": [
    "fig, ax = plt.subplots(figsize = (10, 5))\n",
    "\n",
    "# enter code here\n"
   ]
  },
  {
   "cell_type": "code",
   "execution_count": null,
   "id": "ab7a6ebd-8ec6-4ea8-92e0-09e0b7e272c2",
   "metadata": {},
   "outputs": [],
   "source": []
  }
 ],
 "metadata": {
  "kernelspec": {
   "display_name": "Python 3 (ipykernel)",
   "language": "python",
   "name": "python3"
  },
  "language_info": {
   "codemirror_mode": {
    "name": "ipython",
    "version": 3
   },
   "file_extension": ".py",
   "mimetype": "text/x-python",
   "name": "python",
   "nbconvert_exporter": "python",
   "pygments_lexer": "ipython3",
   "version": "3.9.13"
  }
 },
 "nbformat": 4,
 "nbformat_minor": 5
}
